{
 "cells": [
  {
   "cell_type": "code",
   "execution_count": 28,
   "metadata": {},
   "outputs": [],
   "source": [
    "from main import load_scm\n",
    "import pickle\n",
    "import numpy as np\n",
    "import os\n",
    "import random\n",
    "from sklearn.metrics import roc_curve\n",
    "from transformation_utils import apply_point_to_set_transformation, calculate_dij_and_its_eigenvalues_and_eigenvectors, calculate_Dij"
   ]
  },
  {
   "cell_type": "code",
   "execution_count": 2,
   "metadata": {},
   "outputs": [],
   "source": [
    "SCM_GPDS_PATH = 'SCM_NEW_FEATURES_12X12_GPDS'"
   ]
  },
  {
   "cell_type": "code",
   "execution_count": 40,
   "metadata": {},
   "outputs": [],
   "source": [
    "gpds_dataset_sample = load_scm(SCM_GPDS_PATH, num_of_writers_to_load=100)"
   ]
  },
  {
   "cell_type": "code",
   "execution_count": 11,
   "metadata": {},
   "outputs": [],
   "source": [
    "with open(os.path.join('TRAINING_RESULTS_CEDAR_PROTOCOL_2_12_12', 'forgery_mixed_individuals_n12_m1_p12_writers55_epoch200_max_iterations10000_batch400_27022024_184230.pkl'), 'rb') as pickle_file:\n",
    "    loaded_model = pickle.load(pickle_file)"
   ]
  },
  {
   "cell_type": "code",
   "execution_count": 25,
   "metadata": {},
   "outputs": [
    {
     "data": {
      "text/plain": [
       "dict_keys(['W', 'M', 'A', 'aucs', 'val_eers', 'train_loss', 'val_loss', 'test_eer', 'test_users'])"
      ]
     },
     "execution_count": 25,
     "metadata": {},
     "output_type": "execute_result"
    }
   ],
   "source": [
    "loaded_model['fold_results'][2].keys()"
   ]
  },
  {
   "cell_type": "code",
   "execution_count": 12,
   "metadata": {},
   "outputs": [],
   "source": [
    "def get_batch(datasource, num_elements, individuals_curr_fold, same_or_mixed, origin_list_1, origin_list_2):\n",
    "\n",
    "        list_of_already_selected = []\n",
    "        list_of_pairs = []\n",
    "\n",
    "        first_pair_element_max_index = 24\n",
    "        second_pair_element_max_index = 24\n",
    "\n",
    "        if same_or_mixed == 'same':\n",
    "            while len(list_of_pairs) < num_elements:\n",
    "                random_individual = random.choice(individuals_curr_fold)\n",
    "                first_pair_element = random.randint(0, first_pair_element_max_index - 1)\n",
    "                second_pair_element = random.randint(0, second_pair_element_max_index - 1)\n",
    "\n",
    "                while first_pair_element_max_index == second_pair_element_max_index and first_pair_element == second_pair_element:\n",
    "                    second_pair_element = random.randint(0, second_pair_element_max_index - 1)\n",
    "\n",
    "                identifier = (random_individual, first_pair_element, second_pair_element)\n",
    "\n",
    "                if identifier not in list_of_already_selected:\n",
    "                    list_of_already_selected.append(identifier)\n",
    "                    pair = (datasource[random_individual][origin_list_1][first_pair_element],\n",
    "                            datasource[random_individual][origin_list_2][second_pair_element])\n",
    "                    list_of_pairs.append(pair)\n",
    "\n",
    "        elif same_or_mixed == 'mixed':\n",
    "            while len(list_of_pairs) < num_elements:\n",
    "                random_individual_1 = random.choice(individuals_curr_fold)\n",
    "                random_individual_2 = random.choice(individuals_curr_fold)\n",
    "                \n",
    "                while random_individual_1 == random_individual_2:\n",
    "                    random_individual_2 = random.choice(individuals_curr_fold)\n",
    "\n",
    "                first_pair_element = random.randint(0, first_pair_element_max_index - 1)\n",
    "                second_pair_element = random.randint(0, second_pair_element_max_index - 1)\n",
    "\n",
    "                identifier = (random_individual_1, random_individual_2, first_pair_element, second_pair_element)\n",
    "\n",
    "                if identifier not in list_of_already_selected:\n",
    "                    list_of_already_selected.append(identifier)\n",
    "                    pair = (datasource[random_individual_1][origin_list_1][first_pair_element],\n",
    "                            datasource[random_individual_2][origin_list_2][second_pair_element])\n",
    "                    list_of_pairs.append(pair)\n",
    "                    \n",
    "        return np.array(list_of_pairs)"
   ]
  },
  {
   "cell_type": "code",
   "execution_count": 41,
   "metadata": {},
   "outputs": [],
   "source": [
    "s_pairs_test = get_batch(gpds_dataset_sample, 1000, list(gpds_dataset_sample.keys()), 'same', 'genuine_scm', 'genuine_scm')"
   ]
  },
  {
   "cell_type": "code",
   "execution_count": 42,
   "metadata": {},
   "outputs": [],
   "source": [
    "d_pairs_test = get_batch(gpds_dataset_sample, 1000, list(gpds_dataset_sample.keys()), 'mixed', 'genuine_scm', 'genuine_scm')"
   ]
  },
  {
   "cell_type": "code",
   "execution_count": 43,
   "metadata": {},
   "outputs": [],
   "source": [
    "d_pairs_skilled_test = get_batch(gpds_dataset_sample, 1000, list(gpds_dataset_sample.keys()), 'same', 'genuine_scm', 'forged_scm')"
   ]
  },
  {
   "cell_type": "code",
   "execution_count": 30,
   "metadata": {},
   "outputs": [],
   "source": [
    "def run_test(loaded_model, s_pairs_test, d_pairs_test, selected_fold):\n",
    "    m = loaded_model['m']\n",
    "    n = loaded_model['n']\n",
    "    p = loaded_model['p']\n",
    "    zeta_s = loaded_model['zeta_s']\n",
    "    zeta_d = loaded_model['zeta_d']\n",
    "    \n",
    "    W = loaded_model['fold_results'][selected_fold]['W']\n",
    "    M = loaded_model['fold_results'][selected_fold]['M']\n",
    "    A = loaded_model['fold_results'][selected_fold]['A']\n",
    "\n",
    "    s_pairs_of_sets_test = apply_point_to_set_transformation(s_pairs_test, W, m, p)\n",
    "    d_pairs_of_sets_test = apply_point_to_set_transformation(d_pairs_test, W, m, p)\n",
    "\n",
    "    S_dij_test, _, _ = calculate_dij_and_its_eigenvalues_and_eigenvectors(s_pairs_of_sets_test, A)\n",
    "    D_dij_test, _, _ = calculate_dij_and_its_eigenvalues_and_eigenvectors(d_pairs_of_sets_test, A)\n",
    "\n",
    "    S_Dij_test = calculate_Dij(S_dij_test, M)\n",
    "    D_Dij_test = calculate_Dij(D_dij_test, M)\n",
    "    total_test = np.concatenate((S_Dij_test, D_Dij_test))\n",
    "    labels_test = np.concatenate((np.ones_like(S_Dij_test), np.zeros_like(D_Dij_test)))\n",
    "\n",
    "    probabilities = np.zeros_like(total_test, dtype=float)\n",
    "    probabilities[total_test < zeta_s] = 1.0\n",
    "    probabilities[total_test > zeta_d] = 0.0\n",
    "    in_between_mask = (total_test >= zeta_s) & (total_test <= zeta_d)\n",
    "    probabilities[in_between_mask] = 1 - ((total_test[in_between_mask] - zeta_s) / (zeta_d - zeta_s))\n",
    "\n",
    "    fpr, tpr, _ = roc_curve(labels_test, probabilities)\n",
    "    fnr = 1 - tpr\n",
    "    EER = fpr[np.nanargmin(np.absolute((fnr - fpr)))]\n",
    "\n",
    "    return EER"
   ]
  },
  {
   "cell_type": "code",
   "execution_count": 44,
   "metadata": {},
   "outputs": [
    {
     "data": {
      "text/plain": [
       "0.312"
      ]
     },
     "execution_count": 44,
     "metadata": {},
     "output_type": "execute_result"
    }
   ],
   "source": [
    "EER_test_mixed = run_test(loaded_model, s_pairs_test, d_pairs_test, 1)\n",
    "EER_test_mixed"
   ]
  },
  {
   "cell_type": "code",
   "execution_count": 45,
   "metadata": {},
   "outputs": [
    {
     "data": {
      "text/plain": [
       "0.353"
      ]
     },
     "execution_count": 45,
     "metadata": {},
     "output_type": "execute_result"
    }
   ],
   "source": [
    "EER_test_same = run_test(loaded_model, s_pairs_test, d_pairs_skilled_test, 1)\n",
    "EER_test_same"
   ]
  }
 ],
 "metadata": {
  "kernelspec": {
   "display_name": "Python 3",
   "language": "python",
   "name": "python3"
  },
  "language_info": {
   "codemirror_mode": {
    "name": "ipython",
    "version": 3
   },
   "file_extension": ".py",
   "mimetype": "text/x-python",
   "name": "python",
   "nbconvert_exporter": "python",
   "pygments_lexer": "ipython3",
   "version": "3.11.7"
  }
 },
 "nbformat": 4,
 "nbformat_minor": 2
}
