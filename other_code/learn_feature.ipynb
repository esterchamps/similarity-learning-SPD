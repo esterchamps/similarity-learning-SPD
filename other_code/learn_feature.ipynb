{
 "cells": [
  {
   "cell_type": "code",
   "execution_count": 1,
   "metadata": {},
   "outputs": [
    {
     "name": "stdout",
     "output_type": "stream",
     "text": [
      "WARNING:tensorflow:From c:\\Users\\ester\\faculdade\\tcc\\code\\.conda\\Lib\\site-packages\\keras\\src\\losses.py:2976: The name tf.losses.sparse_softmax_cross_entropy is deprecated. Please use tf.compat.v1.losses.sparse_softmax_cross_entropy instead.\n",
      "\n"
     ]
    }
   ],
   "source": [
    "import tensorflow as tf\n",
    "from keras.src.layers.normalization.batch_normalization import BatchNormalization\n",
    "from tensorflow.keras import layers, models\n",
    "from tensorflow.keras.preprocessing import image\n",
    "from tensorflow.keras.utils import to_categorical\n",
    "import os\n",
    "import random\n",
    "from PIL import Image\n",
    "import numpy as np\n",
    "from skimage import filters\n",
    "from sklearn.model_selection import train_test_split\n",
    "from datetime import datetime"
   ]
  },
  {
   "cell_type": "code",
   "execution_count": 2,
   "metadata": {},
   "outputs": [],
   "source": [
    "def create_cnn(input_shape, num_classes1, num_classes2):\n",
    "    input_layer = layers.Input(shape=input_shape)\n",
    "\n",
    "    conv1 = tf.keras.layers.Conv2D(48, (11, 11), activation='relu', strides=4, padding='same')(input_layer)\n",
    "    batch1 = tf.keras.layers.BatchNormalization()(conv1)\n",
    "\n",
    "    pool1 = tf.keras.layers.MaxPooling2D((3, 3), strides=2)(batch1)\n",
    "\n",
    "    conv2 = tf.keras.layers.Conv2D(256, (3, 3), activation='relu', strides=1, padding='same')(pool1)\n",
    "    batch3 = tf.keras.layers.BatchNormalization()(conv2)\n",
    "\n",
    "    pool2 = tf.keras.layers.MaxPooling2D((3, 3), strides=2)(batch3)\n",
    "\n",
    "    conv3 = tf.keras.layers.Conv2D(384, (3, 3), activation='relu', strides=1, padding='same')(pool2)\n",
    "    batch5 = tf.keras.layers.BatchNormalization()(conv3)\n",
    "\n",
    "    conv4 = tf.keras.layers.Conv2D(384, (3, 3), activation='relu', strides=1, padding='same')(batch5)\n",
    "    batch6 = tf.keras.layers.BatchNormalization()(conv4)\n",
    "\n",
    "    conv5 = tf.keras.layers.Conv2D(256, (3, 3), activation='relu', strides=1, padding='same')(batch6)\n",
    "    batch7 = tf.keras.layers.BatchNormalization()(conv5)\n",
    "\n",
    "    pool3 = tf.keras.layers.MaxPooling2D((3, 3), strides=2, padding='same')(batch7)\n",
    "\n",
    "    flatten = tf.keras.layers.Flatten()(pool3)\n",
    "\n",
    "    l2 = tf.keras.regularizers.L2(l2=1e-4)\n",
    "\n",
    "    dense1 = layers.Dense(2048, activation='relu')(flatten)\n",
    "    batch9 = tf.keras.layers.BatchNormalization()(dense1)\n",
    "    dense2 = layers.Dense(2048, activation='relu')(batch9)\n",
    "    batch10 = tf.keras.layers.BatchNormalization()(dense2)\n",
    "\n",
    "    output1 = tf.keras.layers.Dense(num_classes1, activation='softmax', kernel_regularizer=l2, name='output1')(batch10)\n",
    "    output2 = tf.keras.layers.Dense(num_classes2, activation='sigmoid', kernel_regularizer=l2, name='output2')(batch10)\n",
    "\n",
    "    label_layer_1 = tf.keras.layers.Input((num_classes1,))\n",
    "    label_layer_2 = tf.keras.layers.Input((1,))\n",
    "\n",
    "    model = tf.keras.Model(inputs=[input_layer, label_layer_1, label_layer_2], outputs=[output1, output2])\n",
    "\n",
    "    lambda_const = tf.constant(0.5)\n",
    "\n",
    "    categorical_loss = tf.reduce_mean(tf.math.negative(tf.math.multiply(tf.math.subtract(tf.constant(1.0), lambda_const), (tf.reduce_sum(tf.math.multiply(label_layer_1, tf.math.log(output1)), axis=1)))))\n",
    "\n",
    "    binary_loss = tf.math.multiply(lambda_const, tf.reduce_mean(tf.math.subtract(tf.math.negative(tf.math.multiply(label_layer_2, tf.math.log(output2))), tf.math.multiply(tf.math.subtract(tf.constant(1.0), label_layer_2), tf.math.log(tf.math.subtract(tf.constant(1.0), output2))))))\n",
    "\n",
    "    loss = categorical_loss + binary_loss\n",
    "\n",
    "    model.add_loss(loss)\n",
    "\n",
    "    return model"
   ]
  },
  {
   "cell_type": "code",
   "execution_count": 3,
   "metadata": {},
   "outputs": [
    {
     "name": "stdout",
     "output_type": "stream",
     "text": [
      "WARNING:tensorflow:From c:\\Users\\ester\\faculdade\\tcc\\code\\.conda\\Lib\\site-packages\\keras\\src\\backend.py:1398: The name tf.executing_eagerly_outside_functions is deprecated. Please use tf.compat.v1.executing_eagerly_outside_functions instead.\n",
      "\n",
      "WARNING:tensorflow:From c:\\Users\\ester\\faculdade\\tcc\\code\\.conda\\Lib\\site-packages\\keras\\src\\layers\\normalization\\batch_normalization.py:979: The name tf.nn.fused_batch_norm is deprecated. Please use tf.compat.v1.nn.fused_batch_norm instead.\n",
      "\n",
      "WARNING:tensorflow:From c:\\Users\\ester\\faculdade\\tcc\\code\\.conda\\Lib\\site-packages\\keras\\src\\engine\\base_layer_utils.py:384: The name tf.executing_eagerly_outside_functions is deprecated. Please use tf.compat.v1.executing_eagerly_outside_functions instead.\n",
      "\n"
     ]
    }
   ],
   "source": [
    "model = create_cnn((220, 150, 1), 531, 2)"
   ]
  },
  {
   "cell_type": "code",
   "execution_count": 7,
   "metadata": {},
   "outputs": [
    {
     "data": {
      "text/plain": [
       "<keras.src.layers.convolutional.conv2d.Conv2D at 0x1778fa1c090>"
      ]
     },
     "execution_count": 7,
     "metadata": {},
     "output_type": "execute_result"
    }
   ],
   "source": [
    "model.layers[1]"
   ]
  },
  {
   "cell_type": "code",
   "execution_count": 8,
   "metadata": {},
   "outputs": [
    {
     "data": {
      "text/plain": [
       "(None, 55, 38, 96)"
      ]
     },
     "execution_count": 8,
     "metadata": {},
     "output_type": "execute_result"
    }
   ],
   "source": [
    "model.layers[1].output_shape"
   ]
  },
  {
   "cell_type": "code",
   "execution_count": 194,
   "metadata": {},
   "outputs": [
    {
     "data": {
      "text/plain": [
       "[<keras.src.engine.input_layer.InputLayer at 0x26704ecfa10>,\n",
       " <keras.src.layers.convolutional.conv2d.Conv2D at 0x26704e99a10>,\n",
       " <keras.src.layers.normalization.batch_normalization.BatchNormalization at 0x26704f6f2d0>,\n",
       " <keras.src.layers.pooling.max_pooling2d.MaxPooling2D at 0x26704ffab10>,\n",
       " <keras.src.layers.convolutional.conv2d.Conv2D at 0x2670501c9d0>,\n",
       " <keras.src.layers.normalization.batch_normalization.BatchNormalization at 0x26704fe5790>,\n",
       " <keras.src.layers.pooling.max_pooling2d.MaxPooling2D at 0x26704f90b10>,\n",
       " <keras.src.layers.convolutional.conv2d.Conv2D at 0x26704ff9790>,\n",
       " <keras.src.layers.normalization.batch_normalization.BatchNormalization at 0x26704fb50d0>,\n",
       " <keras.src.layers.pooling.max_pooling2d.MaxPooling2D at 0x26704fc6510>,\n",
       " <keras.src.layers.convolutional.conv2d.Conv2D at 0x26704fc3990>,\n",
       " <keras.src.layers.normalization.batch_normalization.BatchNormalization at 0x26705bb3cd0>,\n",
       " <keras.src.layers.pooling.max_pooling2d.MaxPooling2D at 0x26704f4f010>,\n",
       " <keras.src.layers.reshaping.flatten.Flatten at 0x26705bbec10>,\n",
       " <keras.src.layers.core.dense.Dense at 0x26705bb3950>,\n",
       " <keras.src.layers.normalization.batch_normalization.BatchNormalization at 0x26704f892d0>,\n",
       " <keras.src.layers.core.dense.Dense at 0x26705bd0790>,\n",
       " <keras.src.layers.normalization.batch_normalization.BatchNormalization at 0x26705bdbed0>,\n",
       " <keras.src.engine.input_layer.InputLayer at 0x26705bbe510>,\n",
       " <keras.src.engine.input_layer.InputLayer at 0x26705be7810>,\n",
       " <keras.src.layers.core.dense.Dense at 0x26705bd9190>,\n",
       " <keras.src.layers.core.dense.Dense at 0x26705be1910>,\n",
       " <keras.src.layers.core.tf_op_layer.TFOpLambda at 0x26705beced0>,\n",
       " <keras.src.layers.core.tf_op_layer.TFOpLambda at 0x26705be4f50>,\n",
       " <keras.src.layers.core.tf_op_layer.TFOpLambda at 0x26704f079d0>,\n",
       " <keras.src.layers.core.tf_op_layer.TFOpLambda at 0x26705bf0650>,\n",
       " <keras.src.layers.core.tf_op_layer.TFOpLambda at 0x26705be3b10>,\n",
       " <keras.src.layers.core.tf_op_layer.TFOpLambda at 0x26705be1d90>,\n",
       " <keras.src.layers.core.tf_op_layer.TFOpLambda at 0x26705bf0610>,\n",
       " <keras.src.layers.core.tf_op_layer.TFOpLambda at 0x26705bf1f10>,\n",
       " <keras.src.layers.core.tf_op_layer.TFOpLambda at 0x26705bd8610>,\n",
       " <keras.src.layers.core.tf_op_layer.TFOpLambda at 0x26705ba4cd0>,\n",
       " <keras.src.layers.core.tf_op_layer.TFOpLambda at 0x26705bf3390>,\n",
       " <keras.src.layers.core.tf_op_layer.TFOpLambda at 0x26705bae450>,\n",
       " <keras.src.layers.core.tf_op_layer.TFOpLambda at 0x26705bf1490>,\n",
       " <keras.src.layers.core.tf_op_layer.TFOpLambda at 0x26705ba41d0>,\n",
       " <keras.src.layers.core.tf_op_layer.TFOpLambda at 0x26705beebd0>,\n",
       " <keras.src.layers.core.tf_op_layer.TFOpLambda at 0x26705bbcc50>,\n",
       " <keras.src.layers.core.tf_op_layer.TFOpLambda at 0x26704ffac50>,\n",
       " <keras.src.engine.base_layer.AddLoss at 0x26705bb2a90>]"
      ]
     },
     "execution_count": 194,
     "metadata": {},
     "output_type": "execute_result"
    }
   ],
   "source": [
    "model.layers"
   ]
  }
 ],
 "metadata": {
  "kernelspec": {
   "display_name": "Python 3",
   "language": "python",
   "name": "python3"
  },
  "language_info": {
   "codemirror_mode": {
    "name": "ipython",
    "version": 3
   },
   "file_extension": ".py",
   "mimetype": "text/x-python",
   "name": "python",
   "nbconvert_exporter": "python",
   "pygments_lexer": "ipython3",
   "version": "3.11.7"
  }
 },
 "nbformat": 4,
 "nbformat_minor": 2
}
