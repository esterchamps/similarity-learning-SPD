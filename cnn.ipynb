{
 "cells": [
  {
   "cell_type": "code",
   "execution_count": 1,
   "metadata": {},
   "outputs": [],
   "source": [
    "import tensorflow as tf\n",
    "from keras.src.layers.normalization.batch_normalization import BatchNormalization\n",
    "from tensorflow.keras import layers, models"
   ]
  },
  {
   "cell_type": "code",
   "execution_count": 3,
   "metadata": {},
   "outputs": [
    {
     "name": "stdout",
     "output_type": "stream",
     "text": [
      "Num GPUs Available:  0\n"
     ]
    }
   ],
   "source": [
    "#import tensorflow as tf\n",
    "print(\"Num GPUs Available: \", len(tf.config.list_physical_devices('GPU')))"
   ]
  },
  {
   "cell_type": "code",
   "execution_count": 5,
   "metadata": {},
   "outputs": [
    {
     "data": {
      "text/plain": [
       "OrderedDict([('is_cuda_build', False),\n",
       "             ('is_rocm_build', False),\n",
       "             ('is_tensorrt_build', False),\n",
       "             ('msvcp_dll_names', 'msvcp140.dll,msvcp140_1.dll')])"
      ]
     },
     "execution_count": 5,
     "metadata": {},
     "output_type": "execute_result"
    }
   ],
   "source": [
    "tf.sysconfig.get_build_info()\n"
   ]
  },
  {
   "cell_type": "code",
   "execution_count": 8,
   "metadata": {},
   "outputs": [
    {
     "name": "stdout",
     "output_type": "stream",
     "text": [
      "^C\n",
      "Note: you may need to restart the kernel to use updated packages.\n"
     ]
    }
   ],
   "source": [
    "pip install tensorflow"
   ]
  },
  {
   "cell_type": "code",
   "execution_count": 28,
   "metadata": {},
   "outputs": [],
   "source": [
    "def create_cnn(input_shape, num_classes1, num_classes2):\n",
    "    input_layer = layers.Input(shape=input_shape)\n",
    "\n",
    "    conv1 = layers.Conv2D(96, (11, 11), activation='relu', strides=4, padding='same')(input_layer)\n",
    "    #lrn1 = layers.Lambda(lambda x: tf.nn.local_response_normalization(x, alpha=1e-4, beta=0.75, bias=2, depth_radius=5))(conv1)\n",
    "    batch1 = tf.keras.layers.BatchNormalization()(conv1)\n",
    "\n",
    "    pool1 = layers.MaxPooling2D((3, 3), strides=2)(batch1)\n",
    "\n",
    "    conv2 = layers.Conv2D(256, (3, 3), activation='relu', strides=1, padding='same')(pool1)\n",
    "    #lrn2 = layers.Lambda(lambda x: tf.nn.local_response_normalization(x, alpha=1e-4, beta=0.75, bias=2, depth_radius=5))(conv2)\n",
    "    batch3 = tf.keras.layers.BatchNormalization()(conv2)\n",
    "\n",
    "    pool2 = layers.MaxPooling2D((3, 3), strides=2)(batch3)\n",
    "\n",
    "    conv3 = layers.Conv2D(384, (3, 3), activation='relu', strides=1, padding='same')(pool2)\n",
    "    batch5 = tf.keras.layers.BatchNormalization()(conv3)\n",
    "\n",
    "    conv4 = layers.Conv2D(384, (3, 3), activation='relu', strides=1, padding='same')(batch5)\n",
    "    batch6 = tf.keras.layers.BatchNormalization()(conv4)\n",
    "\n",
    "    conv5 = layers.Conv2D(256, (3, 3), activation='relu', strides=1, padding='same')(batch6)\n",
    "    batch7 = tf.keras.layers.BatchNormalization()(conv5)\n",
    "\n",
    "    pool3 = layers.MaxPooling2D((3, 3), strides=2, padding='same')(batch7)\n",
    "\n",
    "    # Flatten layer\n",
    "    flatten = layers.Flatten()(pool3)\n",
    "\n",
    "    # Fully connected layers\n",
    "    dense1 = layers.Dense(2048, activation='relu')(flatten)\n",
    "    batch9 = tf.keras.layers.BatchNormalization()(dense1)\n",
    "    dense2 = layers.Dense(2048, activation='relu')(batch9)\n",
    "    batch10 = tf.keras.layers.BatchNormalization()(dense2)\n",
    "\n",
    "    # Branch 1\n",
    "    output1 = layers.Dense(num_classes1, activation='softmax', name='output1')(batch10)\n",
    "\n",
    "    # Branch 2\n",
    "    output2 = layers.Dense(num_classes2, activation='sigmoid', name='output2')(batch10)\n",
    "\n",
    "    model = models.Model(inputs=input_layer, outputs=[output1, output2])\n",
    "\n",
    "    return model"
   ]
  },
  {
   "cell_type": "code",
   "execution_count": 29,
   "metadata": {},
   "outputs": [
    {
     "name": "stdout",
     "output_type": "stream",
     "text": [
      "WARNING:tensorflow:From c:\\Users\\ester\\faculdade\\tcc\\code\\.conda\\Lib\\site-packages\\keras\\src\\optimizers\\__init__.py:309: The name tf.train.Optimizer is deprecated. Please use tf.compat.v1.train.Optimizer instead.\n",
      "\n",
      "Model: \"model\"\n",
      "__________________________________________________________________________________________________\n",
      " Layer (type)                Output Shape                 Param #   Connected to                  \n",
      "==================================================================================================\n",
      " input_2 (InputLayer)        [(None, 28, 28, 1)]          0         []                            \n",
      "                                                                                                  \n",
      " conv2d_1 (Conv2D)           (None, 7, 7, 96)             11712     ['input_2[0][0]']             \n",
      "                                                                                                  \n",
      " batch_normalization_40 (Ba  (None, 7, 7, 96)             384       ['conv2d_1[0][0]']            \n",
      " tchNormalization)                                                                                \n",
      "                                                                                                  \n",
      " max_pooling2d (MaxPooling2  (None, 3, 3, 96)             0         ['batch_normalization_40[0][0]\n",
      " D)                                                                 ']                            \n",
      "                                                                                                  \n",
      " conv2d_2 (Conv2D)           (None, 3, 3, 256)            221440    ['max_pooling2d[0][0]']       \n",
      "                                                                                                  \n",
      " batch_normalization_41 (Ba  (None, 3, 3, 256)            1024      ['conv2d_2[0][0]']            \n",
      " tchNormalization)                                                                                \n",
      "                                                                                                  \n",
      " max_pooling2d_1 (MaxPoolin  (None, 1, 1, 256)            0         ['batch_normalization_41[0][0]\n",
      " g2D)                                                               ']                            \n",
      "                                                                                                  \n",
      " conv2d_3 (Conv2D)           (None, 1, 1, 384)            885120    ['max_pooling2d_1[0][0]']     \n",
      "                                                                                                  \n",
      " batch_normalization_42 (Ba  (None, 1, 1, 384)            1536      ['conv2d_3[0][0]']            \n",
      " tchNormalization)                                                                                \n",
      "                                                                                                  \n",
      " conv2d_4 (Conv2D)           (None, 1, 1, 384)            1327488   ['batch_normalization_42[0][0]\n",
      "                                                                    ']                            \n",
      "                                                                                                  \n",
      " batch_normalization_43 (Ba  (None, 1, 1, 384)            1536      ['conv2d_4[0][0]']            \n",
      " tchNormalization)                                                                                \n",
      "                                                                                                  \n",
      " conv2d_5 (Conv2D)           (None, 1, 1, 256)            884992    ['batch_normalization_43[0][0]\n",
      "                                                                    ']                            \n",
      "                                                                                                  \n",
      " batch_normalization_44 (Ba  (None, 1, 1, 256)            1024      ['conv2d_5[0][0]']            \n",
      " tchNormalization)                                                                                \n",
      "                                                                                                  \n",
      " max_pooling2d_2 (MaxPoolin  (None, 1, 1, 256)            0         ['batch_normalization_44[0][0]\n",
      " g2D)                                                               ']                            \n",
      "                                                                                                  \n",
      " flatten (Flatten)           (None, 256)                  0         ['max_pooling2d_2[0][0]']     \n",
      "                                                                                                  \n",
      " dense (Dense)               (None, 2048)                 526336    ['flatten[0][0]']             \n",
      "                                                                                                  \n",
      " batch_normalization_45 (Ba  (None, 2048)                 8192      ['dense[0][0]']               \n",
      " tchNormalization)                                                                                \n",
      "                                                                                                  \n",
      " dense_1 (Dense)             (None, 2048)                 4196352   ['batch_normalization_45[0][0]\n",
      "                                                                    ']                            \n",
      "                                                                                                  \n",
      " batch_normalization_46 (Ba  (None, 2048)                 8192      ['dense_1[0][0]']             \n",
      " tchNormalization)                                                                                \n",
      "                                                                                                  \n",
      " output1 (Dense)             (None, 10)                   20490     ['batch_normalization_46[0][0]\n",
      "                                                                    ']                            \n",
      "                                                                                                  \n",
      " output2 (Dense)             (None, 5)                    10245     ['batch_normalization_46[0][0]\n",
      "                                                                    ']                            \n",
      "                                                                                                  \n",
      "==================================================================================================\n",
      "Total params: 8106063 (30.92 MB)\n",
      "Trainable params: 8095119 (30.88 MB)\n",
      "Non-trainable params: 10944 (42.75 KB)\n",
      "__________________________________________________________________________________________________\n"
     ]
    }
   ],
   "source": [
    "\n",
    "input_shape = (28, 28, 1)\n",
    "num_classes1 = 10\n",
    "num_classes2 = 5\n",
    "model = create_cnn(input_shape, num_classes1, num_classes2)\n",
    "\n",
    "# Compile the model\n",
    "model.compile(optimizer='adam',\n",
    "              loss={'output1': 'sparse_categorical_crossentropy', 'output2': 'sparse_categorical_crossentropy'},\n",
    "              metrics={'output1': 'accuracy', 'output2': 'accuracy'})\n",
    "\n",
    "# Print model summary\n",
    "model.summary()"
   ]
  }
 ],
 "metadata": {
  "kernelspec": {
   "display_name": "Python 3",
   "language": "python",
   "name": "python3"
  },
  "language_info": {
   "codemirror_mode": {
    "name": "ipython",
    "version": 3
   },
   "file_extension": ".py",
   "mimetype": "text/x-python",
   "name": "python",
   "nbconvert_exporter": "python",
   "pygments_lexer": "ipython3",
   "version": "3.11.7"
  }
 },
 "nbformat": 4,
 "nbformat_minor": 2
}
